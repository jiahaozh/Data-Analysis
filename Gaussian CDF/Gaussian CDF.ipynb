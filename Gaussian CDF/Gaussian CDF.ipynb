{
 "cells": [
  {
   "cell_type": "code",
   "execution_count": 1,
   "metadata": {},
   "outputs": [
    {
     "data": {
      "text/plain": [
       "'\\n    CS506 Spring 2018 - Homework 1.2\\n    Probability / Linear Algebra\\n    author: Nikolakaki Sofia\\n    ------------------------------------------\\n'"
      ]
     },
     "execution_count": 1,
     "metadata": {},
     "output_type": "execute_result"
    }
   ],
   "source": [
    "\"\"\"\n",
    "    CS506 Spring 2018 - Homework 1.2\n",
    "    Probability / Linear Algebra\n",
    "    author: Nikolakaki Sofia\n",
    "    ------------------------------------------\n",
    "\"\"\""
   ]
  },
  {
   "cell_type": "markdown",
   "metadata": {},
   "source": [
    "In this assignment, we will create a gaussian CDF from a probability distribution. \n",
    "This assignment is to be completed **INDIVIDUALLY** and is due on **February 10** at **7pm**.\n",
    "\n",
    "Please update the README file with your BU username. In case you are using the 3-day extension, please mention it in your README file."
   ]
  },
  {
   "cell_type": "markdown",
   "metadata": {},
   "source": [
    "The following code produces a probability distribution function. You will assume the PDF called ```distribution``` for the rest of the homework assignment."
   ]
  },
  {
   "cell_type": "code",
   "execution_count": 2,
   "metadata": {},
   "outputs": [
    {
     "name": "stderr",
     "output_type": "stream",
     "text": [
      "/anaconda/lib/python3.6/site-packages/statsmodels/compat/pandas.py:56: FutureWarning: The pandas.core.datetools module is deprecated and will be removed in a future version. Please use the pandas.tseries module instead.\n",
      "  from pandas.core import datetools\n"
     ]
    }
   ],
   "source": [
    "\"\"\"\n",
    "Import python packages here.\n",
    "\"\"\"\n",
    "from scipy import stats \n",
    "import matplotlib.pyplot as plt\n",
    "import numpy as np\n",
    "import statsmodels.api as sm # recommended import according to the docs\n",
    "import matplotlib.pyplot as plt\n",
    "\n",
    "%matplotlib inline"
   ]
  },
  {
   "cell_type": "code",
   "execution_count": 3,
   "metadata": {},
   "outputs": [
    {
     "data": {
      "image/png": "[encoded data removed]",
      "text/plain": [
       "<matplotlib.figure.Figure at 0x11cc7da90>"
      ]
     },
     "metadata": {},
     "output_type": "display_data"
    }
   ],
   "source": [
    "xk = np.arange(7)\n",
    "pk = (0.1, 0.2, 0.3, 0.1, 0.1, 0.0, 0.2)\n",
    "distribution = stats.rv_discrete(name='custm', values=(xk, pk))\n",
    "fig, ax = plt.subplots(1,1)\n",
    "ax.plot(xk, distribution.pmf(xk), 'ro', ms=12, mec='r')\n",
    "ax.vlines(xk, 0, distribution.pmf(xk), colors='r', lw=4)\n",
    "plt.title('Probality Distribution')\n",
    "plt.show()"
   ]
  },
  {
   "cell_type": "markdown",
   "metadata": {},
   "source": [
    "a) Generate samples of the intial distribution for the following number of samples i) N = 100, ii) N = 1000. In the same figure, plot the observed probability for each of the two samples, and the actual probability distribution. **(2 pts)**"
   ]
  },
  {
   "cell_type": "code",
   "execution_count": 4,
   "metadata": {
    "scrolled": true
   },
   "outputs": [
    {
     "data": {
      "image/png": "[encoded data removed]",
      "text/plain": [
       "<matplotlib.figure.Figure at 0x11ee35240>"
      ]
     },
     "metadata": {},
     "output_type": "display_data"
    }
   ],
   "source": [
    "def frequency(a,x):\n",
    "    count = 0\n",
    "    for i in a:\n",
    "        if i == x: \n",
    "            count += 1\n",
    "    return count\n",
    "\n",
    "a = distribution.rvs(size=100)\n",
    "f0=frequency(a,0)\n",
    "f1=frequency(a,1)\n",
    "f2=frequency(a,2)\n",
    "f3=frequency(a,3)\n",
    "f4=frequency(a,4)\n",
    "f5=frequency(a,5)\n",
    "f6=frequency(a,6)\n",
    "#print(f0,f1,f2,f3,f4,f5,f6)\n",
    "p0=f0/100\n",
    "p1=f1/100\n",
    "p2=f2/100\n",
    "p3=f3/100\n",
    "p4=f4/100\n",
    "p5=f5/100\n",
    "p6=f6/100\n",
    "#print(p0,p1,p2,p3,p4,p5,p6)\n",
    "pmf_a=[p0,p1,p2,p3,p4,p5,p6]\n",
    "#print(pmf_a)\n",
    "a = distribution.rvs(size=1000)\n",
    "f0=frequency(a,0)\n",
    "f1=frequency(a,1)\n",
    "f2=frequency(a,2)\n",
    "f3=frequency(a,3)\n",
    "f4=frequency(a,4)\n",
    "f5=frequency(a,5)\n",
    "f6=frequency(a,6)\n",
    "#print(f0,f1,f2,f3,f4,f5,f6)\n",
    "p0=f0/1000\n",
    "p1=f1/1000\n",
    "p2=f2/1000\n",
    "p3=f3/1000\n",
    "p4=f4/1000\n",
    "p5=f5/1000\n",
    "p6=f6/1000\n",
    "#print(p0,p1,p2,p3,p4,p5,p6)\n",
    "pmf_b=[p0,p1,p2,p3,p4,p5,p6]\n",
    "#print(pmf_b)\n",
    "\n",
    "fig, ax = plt.subplots(1,1)\n",
    "ax.plot(xk, pmf_a, 'ro', ms=12, mec='r',label='N=100')\n",
    "ax.vlines(xk, 0, pmf_a, colors='r', lw=4)\n",
    "ax.plot(xk+0.5, pmf_b, 'bo', ms=12, mec='b',label='N=1000')\n",
    "ax.vlines(xk+0.5, 0, pmf_b, colors='b', lw=4)\n",
    "plt.legend(loc=\"best\") \n",
    "plt.title('Probality Distribution')\n",
    "plt.show()"
   ]
  },
  {
   "cell_type": "markdown",
   "metadata": {
    "collapsed": true
   },
   "source": [
    "b) In this step you will see in practice the Central Limit Theorem by creating a **Gausssian** cumulative distribution function (CDF) from the original probability density function.\n",
    "In order to do that you need to do the following. Consider the initial probability distribution function, with $X_{i}\\in{1,2,3,4,5,6}$ according to the initial probabilities. The sum of the sample set of one random variable is $S_{N} = X_{1} +X_{2} +···+X_{N}$, while N is the size of the sample set of each random variable. You will find many such random variables, and compute the following standardize sum for each of them:\n",
    "\n",
    "$$ S_{N}^{*} = \\frac{S_{N} - N*\\mu}{\\sqrt{N}}$$\n",
    "\n",
    "Finally, you will need to create the empirical CDF (a CDF for a discrete random variable) of these standardized means for i)  1 random variable, 2) 10 random variables and 3) 100 random variables. Plot these CDF functions in the same figure.\n",
    "\n",
    "** (3 pts) **"
   ]
  },
  {
   "cell_type": "code",
   "execution_count": 7,
   "metadata": {},
   "outputs": [
    {
     "name": "stdout",
     "output_type": "stream",
     "text": [
      "1000\n",
      "100 100\n"
     ]
    },
    {
     "data": {
      "image/png": "[encoded data removed]",
      "text/plain": [
       "<matplotlib.figure.Figure at 0x11cda9f28>"
      ]
     },
     "metadata": {},
     "output_type": "display_data"
    }
   ],
   "source": [
    "u = 2.7\n",
    "def CDF(N):\n",
    "    SNEW=[]\n",
    "    count=1\n",
    "    while (count <= 1000):\n",
    "        X = distribution.rvs(size=N)\n",
    "        #print(X)\n",
    "        SN=np.sum(X)\n",
    "        #print(SN)\n",
    "        S=(SN-N*u)/np.sqrt(N)\n",
    "        #print(SNEW)\n",
    "        SNEW.append(S)\n",
    "        count += 1\n",
    "    return SNEW\n",
    "\n",
    "A = CDF(1)\n",
    "print(len(A))\n",
    "x = np.linspace(-10,10,100)\n",
    "cdfa = sm.distributions.ECDF(A)\n",
    "ya = cdfa(x)\n",
    "print(len(x),len(ya))\n",
    "B = CDF(10)\n",
    "cdfb = sm.distributions.ECDF(B)\n",
    "yb = cdfb(x)\n",
    "C = CDF(100)\n",
    "cdfc = sm.distributions.ECDF(C)\n",
    "yc = cdfc(x)\n",
    "plt.subplot(1,1,1)\n",
    "plt.plot(x, ya, 'r-', label='CDF(N=1)')\n",
    "plt.plot(x, yb, 'b-', label='CDF(N=10)')\n",
    "plt.plot(x, yc, 'g-', label='CDF(N=100)')\n",
    "plt.legend(loc='best')\n",
    "plt.ylabel('Probability')\n",
    "plt.title('Empirical CDF')\n",
    "plt.show()"
   ]
  },
  {
   "cell_type": "markdown",
   "metadata": {
    "collapsed": true
   },
   "source": [
    "Please, report any observations you make. For instance, how do the number of random variables affect the CDF? How do you interpret the steep line of the CDF function, or the range of values it takes? ** (1 pt) **"
   ]
  },
  {
   "cell_type": "code",
   "execution_count": null,
   "metadata": {
    "collapsed": true
   },
   "outputs": [],
   "source": [
    "'''\n",
    "As we can see from the graph above, when N=1, the steps are serrated; when N=10, the serrated shape is not that\n",
    "obvious like N=1 but still there; when N=100, the empirical graph looks very smooth. Based on this phenomenon, I can \n",
    "conclude that when N is big enough, the cdf will go very smooth, and the new distribution tends to be a normal distri\n",
    "-bution, which is symmetrical by x=0. The whole procedure proved Central Limit Theorem.\n",
    "'''"
   ]
  }
 ],
 "metadata": {
  "kernelspec": {
   "display_name": "Python 3",
   "language": "python",
   "name": "python3"
  },
  "language_info": {
   "codemirror_mode": {
    "name": "ipython",
    "version": 3
   },
   "file_extension": ".py",
   "mimetype": "text/x-python",
   "name": "python",
   "nbconvert_exporter": "python",
   "pygments_lexer": "ipython3",
   "version": "3.6.1"
  }
 },
 "nbformat": 4,
 "nbformat_minor": 2
}
